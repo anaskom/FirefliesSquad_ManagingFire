{
 "cells": [
  {
   "cell_type": "code",
   "execution_count": null,
   "metadata": {
    "collapsed": true,
    "pycharm": {
     "name": "#%%\n"
    }
   },
   "outputs": [],
   "source": [
    "import pandas as pd\n",
    "import geopandas as gpd\n",
    "from shapely.geometry import Point\n",
    "from scipy.spatial.distance import cdist\n",
    "import numpy as np\n",
    "from scipy.sparse import lil_matrix\n",
    "\n",
    "csv_path = r\"C:\\Users\\a0494\\Desktop\\New folder (3)\\fire_archive_M-C61_388698.csv\"\n",
    "\n",
    "# Зчитайте дані з CSV-файлу\n",
    "df = pd.read_csv(csv_path)\n",
    "\n",
    "df.head()\n",
    "\n",
    "\n",
    "# Додайте новий стовпець \"id\"\n",
    "df['id'] = range(1, len(df) + 1)\n",
    "df['group_id'] = -1\n",
    "\n",
    "df_short = df[['latitude', 'longitude', 'acq_date', 'id', 'group_id']]\n",
    "df_short.head()\n",
    "\n",
    "from datetime import datetime, timedelta\n",
    "\n",
    "def date_range(start_date, end_date, format='%Y-%m-%d'):\n",
    "    current_date = datetime.strptime(start_date, format)\n",
    "    end_date = datetime.strptime(end_date, format)\n",
    "\n",
    "    while current_date <= end_date:\n",
    "        yield current_date.strftime(format)\n",
    "        current_date += timedelta(days=1)\n",
    "\n",
    "# Використання функції для створення циклу дат\n",
    "start_date = '2020-01-01'\n",
    "end_date = '2021-12-12'\n",
    "date_format = '%Y-%m-%d'\n"
   ]
  },
  {
   "cell_type": "code",
   "execution_count": null,
   "outputs": [],
   "source": [
    "def replace_group_id(df_short_classificated, k, new_value):\n",
    "    # Замінити всі значення group_id, рівні k, на new_value\n",
    "    df_short_classificated.loc[df_short_classificated['group_id'] == k, 'group_id'] = new_value\n",
    "\n",
    "\n",
    "def clasterisation(filtered_rows, filtered_rows_pre, k, boolean_id_matrix):\n",
    "    # Об'єднати filtered_dates і filtered_rows_pre\n",
    "    df_combined = pd.concat([filtered_rows, filtered_rows_pre], ignore_index=True)\n",
    "\n",
    "    # Розрахунок відстаней між точками\n",
    "    distances = cdist(df_combined[['latitude', 'longitude']], df_combined[['latitude', 'longitude']], metric='euclidean')\n",
    "\n",
    "    # Задайте поріг для відстані\n",
    "    distance_threshold = 1.5  # 2 км\n",
    "\n",
    "    # Знайдіть пари точок, які задовольняють умову відстані\n",
    "    pairs = np.where(distances <= distance_threshold)\n",
    "\n",
    "    # Проініціалізуйте group_id у filtered_dates значеннями з filtered_rows_pre\n",
    "    #filtered_rows['group_id'] = filtered_rows.apply(lambda row: row['group_id'] if not pd.isna(row['group_id']) else np.nan, axis=1)\n",
    "    for i, j in zip(*pairs):\n",
    "        if i!=j:\n",
    "            id_i_r = df_combined.at[i, 'id']\n",
    "            id_j_r = df_combined.at[j, 'id']\n",
    "            #print(id_i_r, id_j_r)\n",
    "            id_i = df_combined.at[i, 'group_id']\n",
    "            id_j = df_combined.at[j, 'group_id']\n",
    "            has_id_i = id_i != -1\n",
    "            has_id_j = id_j != -1\n",
    "            if has_id_i and has_id_j:\n",
    "                replace_group_id(df_short_classificated, id_i, id_j)\n",
    "            elif has_id_i:\n",
    "                # Якщо точка i має group_id, присвойте його точці j\n",
    "                df_combined.loc[df_combined['id'] == id_i_r, 'group_id'] = id_i\n",
    "            elif has_id_j:\n",
    "                df_combined.loc[df_combined['id'] == id_j_r, 'group_id'] = id_j\n",
    "            else:\n",
    "                 k += 1\n",
    "                 df_combined.loc[df_combined['id'] == id_i_r, 'group_id'] = k\n",
    "                 df_combined.loc[df_combined['id'] == id_j_r, 'group_id'] = k\n",
    "    # Перевірка, чи всі точки мають id\n",
    "    #if 'group_id' not in filtered_dates.columns:\n",
    "    #    # Якщо 'id' відсутній у стовпцях, додайте його\n",
    "    #    filtered_dates['group_id'] = range(1, len(filtered_dates) + 1)\n",
    "    #print(df_combined, filtered_rows)\n",
    "    df_combined_cropped = df_combined[df_combined['id'].isin(filtered_rows['id'])]\n",
    "    #print(len(df_combined_cropped),\"::\", len(df_combined))\n",
    "   # print(filtered_dates)\n",
    "    return df_combined_cropped, k, boolean_id_matrix\n",
    "# Розмірність матриці\n",
    "matrix_size = 37000\n",
    "\n",
    "# Створити матрицю з False (булевий тип за замовчуванням)\n",
    "boolean_id_matrix = np.full((matrix_size, matrix_size), False, dtype=bool)\n",
    "\n",
    "\n",
    "\n",
    "columns = ['latitude', 'longitude', 'acq_date', 'id', 'group_id']\n",
    "df_short_classificated = pd.DataFrame(columns=columns)\n",
    "filtered_rows_pre = df_short_classificated\n",
    "filtered_rows = filtered_rows_pre\n",
    "k = 0\n",
    "n=0\n",
    "import time\n",
    "import warnings\n",
    "warnings.filterwarnings('ignore')\n",
    "\n",
    "for date_str in date_range(start_date, end_date, date_format):\n",
    "    n+=1\n",
    "    if(n>180):\n",
    "        start_time = time.time()  # Запускаємо таймер на початку циклу\n",
    "        df_short_classificated = df_short_classificated.append(filtered_rows_pre, ignore_index=True)\n",
    "        filtered_rows = df_short[df_short['acq_date'] == date_str]\n",
    "        filtered_rows_pre, k, boolean_id_matrix = clasterisation(filtered_rows, filtered_rows_pre, k, boolean_id_matrix)\n",
    "        end_time = time.time()  # Зупиняємо таймер після завершення обчислень\n",
    "        print(f\"{date_str} :: {k} :: Time: {end_time - start_time} seconds\")\n",
    "\n",
    "\n",
    "\n",
    "\n",
    "\n",
    "\n"
   ],
   "metadata": {
    "collapsed": false,
    "pycharm": {
     "name": "#%%\n"
    }
   }
  },
  {
   "cell_type": "code",
   "execution_count": null,
   "outputs": [],
   "source": [
    "df_short_classificated = df_short_classificated.sort_values(by='group_id')\n",
    "\n",
    "# Вивести результат\n",
    "print(df_short_classificated.tail(20))"
   ],
   "metadata": {
    "collapsed": false,
    "pycharm": {
     "name": "#%%\n"
    }
   }
  },
  {
   "cell_type": "code",
   "execution_count": null,
   "outputs": [],
   "source": [
    "print(df_short_classificated.tail(20))"
   ],
   "metadata": {
    "collapsed": false,
    "pycharm": {
     "name": "#%%\n"
    }
   }
  },
  {
   "cell_type": "code",
   "execution_count": null,
   "outputs": [],
   "source": [
    "df_short_classificated.to_csv(r\"C:\\Users\\a0494\\Desktop\\New folder (3)\\Кластерізовані\\test.csv\", index=False)"
   ],
   "metadata": {
    "collapsed": false,
    "pycharm": {
     "name": "#%%\n"
    }
   }
  },
  {
   "cell_type": "code",
   "execution_count": null,
   "outputs": [],
   "source": [
    "import pandas as pd\n",
    "\n",
    "# Припускаючи, що у вас є стовпець 'id' який є унікальним ключем\n",
    "# і у df є стовпець 'group_id', який вам потрібно оновити\n",
    "df_final = pd.merge(df, df_short_classificated[['id', 'group_id']], on='id', how='left', suffixes=('', '_new'))\n",
    "\n",
    "# Оновлення значень group_id за умовою\n",
    "df_final['group_id'] = df_final.apply(lambda row: row['group_id_new'] if row['group_id_new'] != -1 else row['group_id'], axis=1)\n",
    "\n",
    "# Видалення допоміжного стовпця\n",
    "df_final = df_final.drop(columns=['group_id_new'])"
   ],
   "metadata": {
    "collapsed": false,
    "pycharm": {
     "name": "#%%\n"
    }
   }
  },
  {
   "cell_type": "code",
   "execution_count": null,
   "outputs": [],
   "source": [
    "df_final = df_final.sort_values(by='group_id')\n",
    "df_final.to_csv(r\"C:\\Users\\a0494\\Desktop\\New folder (3)\\Кластерізовані\\final.csv\", index=False)"
   ],
   "metadata": {
    "collapsed": false,
    "pycharm": {
     "name": "#%%\n"
    }
   }
  }
 ],
 "metadata": {
  "kernelspec": {
   "display_name": "Python 3",
   "language": "python",
   "name": "python3"
  },
  "language_info": {
   "codemirror_mode": {
    "name": "ipython",
    "version": 2
   },
   "file_extension": ".py",
   "mimetype": "text/x-python",
   "name": "python",
   "nbconvert_exporter": "python",
   "pygments_lexer": "ipython2",
   "version": "2.7.6"
  }
 },
 "nbformat": 4,
 "nbformat_minor": 0
}